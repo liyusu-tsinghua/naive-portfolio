{
 "cells": [
  {
   "cell_type": "code",
   "execution_count": null,
   "metadata": {},
   "outputs": [],
   "source": [
    "tick = read.csv('data_cn/tickers.csv',header = F)\n",
    "pric = read.csv('data_cn/adjusted.csv',header = T)\n",
    "univ = read.csv('data_cn/in_univ.csv',header = F)"
   ]
  },
  {
   "cell_type": "code",
   "execution_count": null,
   "metadata": {},
   "outputs": [],
   "source": [
    "head(tick)"
   ]
  },
  {
   "cell_type": "code",
   "execution_count": null,
   "metadata": {},
   "outputs": [],
   "source": [
    "head(pric)\n",
    "head(univ)"
   ]
  },
  {
   "cell_type": "code",
   "execution_count": null,
   "metadata": {},
   "outputs": [],
   "source": [
    "j0 = dim(univ)[2]\n",
    "\n",
    "dat = data.frame(1:j0)\n",
    "dat$Gics = tick[,2]\n",
    "dat$ticker = tick[,1]\n",
    "dat = dat[,2:3]"
   ]
  },
  {
   "cell_type": "code",
   "execution_count": null,
   "metadata": {},
   "outputs": [],
   "source": [
    "univ = as.data.frame(t(univ))\n",
    "dat = cbind(dat,univ)"
   ]
  },
  {
   "cell_type": "code",
   "execution_count": null,
   "metadata": {},
   "outputs": [],
   "source": [
    "for (i in pric$Date){\n",
    "#    print(i)\n",
    "    if(i%/%100 >= 201606){\n",
    "        dpls = t(pric[pric$Date == i,2:(j0+1)])\n",
    "        dat$dpls = dpls\n",
    "        names(dat)[names(dat) == 'dpls'] = i\n",
    "    }\n",
    "}"
   ]
  },
  {
   "cell_type": "code",
   "execution_count": null,
   "metadata": {},
   "outputs": [],
   "source": [
    "dat1 = dat[dat$Gics != '#N/A N/A',]"
   ]
  },
  {
   "cell_type": "code",
   "execution_count": null,
   "metadata": {},
   "outputs": [],
   "source": [
    "dim(dat1)\n",
    "head(dat1)\n",
    "names(dat1)[1:20]\n",
    "names(dat1)[16]"
   ]
  },
  {
   "cell_type": "code",
   "execution_count": null,
   "metadata": {},
   "outputs": [],
   "source": [
    "# if we want 20xx year universe , V(xx-5) == 1 , \n",
    "# that is dat1[xx-3] ==1"
   ]
  }
 ],
 "metadata": {
  "kernelspec": {
   "display_name": "R",
   "language": "R",
   "name": "python3810jvsc74a57bd017a73620da6fe0db3e6bab6de70412755840a29e969eb01a54cd78a56c7da7dc"
  },
  "language_info": {
   "codemirror_mode": "r",
   "file_extension": ".r",
   "mimetype": "text/x-r-source",
   "name": "R",
   "pygments_lexer": "r",
   "version": "4.1.0"
  },
  "orig_nbformat": 4
 },
 "nbformat": 4,
 "nbformat_minor": 2
}
